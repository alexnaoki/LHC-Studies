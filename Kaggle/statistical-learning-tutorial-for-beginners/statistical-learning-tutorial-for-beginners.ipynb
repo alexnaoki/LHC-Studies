{
 "cells": [
  {
   "cell_type": "markdown",
   "metadata": {
    "_cell_guid": "e9661373-4482-4fd6-87db-9debcf5835cc",
    "_uuid": "58814c6412866fd76edd976c63878aa7d7318c55"
   },
   "source": [
    "# Introduction\n",
    "Basic statistic for beginners\n",
    "* [Histogram](#1)\n",
    "* [Outliers](#2)\n",
    "* [Box Plot ](#3)\n",
    "* [Summary Statistics](#4)\n",
    "* [CDF](#5)\n",
    "* [Effect size](#6)\n",
    "* [Relationship Between Variables](#7)\n",
    "* [Correlation](#8)\n",
    "* [Covariance](#9)\n",
    "* [Pearson Correlation](#10)\n",
    "* [Spearman's Rank Correlation](#11)\n",
    "* [Mean VS Median](#12)\n",
    "* [Hypothesis Testing](#13)\n",
    "* [Normal(Gaussian) Distribution and z-score](#14) \n"
   ]
  },
  {
   "cell_type": "code",
   "execution_count": null,
   "metadata": {
    "_cell_guid": "b1076dfc-b9ad-4769-8c92-a6c4dae69d19",
    "_uuid": "8f2839f25d086af736a60e9eeb907d3b93b6e0e5",
    "collapsed": true
   },
   "outputs": [],
   "source": [
    "# This Python 3 environment comes with many helpful analytics libraries installed\n",
    "# It is defined by the kaggle/python docker image: https://github.com/kaggle/docker-python\n",
    "# For example, here's several helpful packages to load in \n",
    "\n",
    "# import libraries\n",
    "import pandas as pd\n",
    "import numpy as np\n",
    "import seaborn as sns\n",
    "import matplotlib.pyplot as plt\n",
    "from pandas.tools import plotting\n",
    "from scipy import stats\n",
    "plt.style.use(\"ggplot\")\n",
    "import warnings\n",
    "warnings.filterwarnings(\"ignore\")\n",
    "from scipy import stats\n",
    "\n",
    "# Input data files are available in the \"./input/\" directory.\n",
    "# For example, running this (by clicking run or pressing Shift+Enter) will list the files in the input directory\n",
    "\n",
    "import os\n",
    "print(os.listdir(\"./input\"))\n",
    "\n",
    "# Any results you write to the current directory are saved as output."
   ]
  },
  {
   "cell_type": "code",
   "execution_count": null,
   "metadata": {
    "_cell_guid": "79c7e3d0-c299-4dcb-8224-4455121ee9b0",
    "_uuid": "d629ff2d2480ee46fbb7e2d37f6b5fab8052498a",
    "collapsed": true
   },
   "outputs": [],
   "source": [
    "# read data as pandas data frame\n",
    "data = pd.read_csv(\"./input/data.csv\")\n",
    "data = data.drop(['Unnamed: 32','id'],axis = 1)"
   ]
  },
  {
   "cell_type": "code",
   "execution_count": null,
   "metadata": {
    "_cell_guid": "98513b44-0348-44ea-924a-60595db626a3",
    "_uuid": "c38f6c370861afa361759364d40674a473d1ad91",
    "collapsed": true
   },
   "outputs": [],
   "source": [
    "# quick look to data\n",
    "data.head()\n",
    "data.shape # (569, 31)\n",
    "data.columns "
   ]
  },
  {
   "cell_type": "markdown",
   "metadata": {
    "_cell_guid": "829d5285-8fdb-437d-b5fd-26f2bc3f6e01",
    "_uuid": "86d0d9a841baf5733e6104cf0433cb3e148a354d"
   },
   "source": [
    "<a id=\"1\"></a> <br>\n",
    "## Histogram\n",
    "* How many times each value appears in dataset. This description is called the distribution of variable\n",
    "* Most common way to represent distribution of varible is histogram that is graph which shows frequency of each value.\n",
    "* Frequency = number of times each value appears\n",
    "* Example: [1,1,1,1,2,2,2]. Frequency of 1 is four and frequency of 2 is three."
   ]
  },
  {
   "cell_type": "code",
   "execution_count": null,
   "metadata": {
    "_cell_guid": "27b6f676-0a79-4728-889e-4839925ea067",
    "_uuid": "d85e97435435a4f9b0d5ac188c8ec21f565bc7d9",
    "collapsed": true
   },
   "outputs": [],
   "source": [
    "m = plt.hist(data[data[\"diagnosis\"] == \"M\"].radius_mean,bins=30,fc = (1,0,0,0.5),label = \"Malignant\")\n",
    "b = plt.hist(data[data[\"diagnosis\"] == \"B\"].radius_mean,bins=30,fc = (0,1,0,0.5),label = \"Bening\")\n",
    "plt.legend()\n",
    "plt.xlabel(\"Radius Mean Values\")\n",
    "plt.ylabel(\"Frequency\")\n",
    "plt.title(\"Histogram of Radius Mean for Bening and Malignant Tumors\")\n",
    "plt.show()\n",
    "frequent_malignant_radius_mean = m[0].max()\n",
    "index_frequent_malignant_radius_mean = list(m[0]).index(frequent_malignant_radius_mean)\n",
    "most_frequent_malignant_radius_mean = m[1][index_frequent_malignant_radius_mean]\n",
    "print(\"Most frequent malignant radius mean is: \",most_frequent_malignant_radius_mean)"
   ]
  },
  {
   "cell_type": "markdown",
   "metadata": {
    "_cell_guid": "00242269-d9ec-4c1f-b5ad-46afa2ecac64",
    "_uuid": "5c15482f7fd409c0ed070fc308e273379cf54c0b"
   },
   "source": [
    "* Lets look at other conclusions\n",
    "* From this graph you can see that radius mean of malignant tumors are bigger than radius mean of bening tumors mostly.\n",
    "* The bening distribution (green in graph) is approcimately bell-shaped that is shape of normal distribution (gaussian distribution)\n",
    "* Also you can find result like that most frequent malignant radius mean is  "
   ]
  },
  {
   "cell_type": "markdown",
   "metadata": {
    "_cell_guid": "87e57445-3e95-42b8-8e39-f50d44d10fcd",
    "_uuid": "39dc3e3da7aa7c7d6e0f8401ced77452bc3e7342"
   },
   "source": [
    "<a id=\"2\"></a> <br>\n",
    "## Outliers\n",
    "* While looking histogram as yok can see there are rare values in bening distribution (green in graph)\n",
    "* There values can be errors or rare events.\n",
    "* These errors and rare events can be called outliers.\n",
    "* Calculating outliers: \n",
    "    * first we need to calculate first quartile (Q1)(25%)\n",
    "    * then find IQR(inter quartile range) = Q3-Q1\n",
    "    * finally compute Q1 - 1.5*IQR and Q3 + 1.5*IQR\n",
    "    * Anything outside this range is an outlier\n",
    "    * lets write the code for bening tumor distribution for feature radius mean"
   ]
  },
  {
   "cell_type": "code",
   "execution_count": null,
   "metadata": {
    "_cell_guid": "08e126eb-3104-4661-85a6-bd0c577bc23f",
    "_uuid": "040eb24a134cb58f36ec73001ea4c4b1ba7df12f",
    "collapsed": true
   },
   "outputs": [],
   "source": [
    "data_bening = data[data[\"diagnosis\"] == \"B\"]\n",
    "data_malignant = data[data[\"diagnosis\"] == \"M\"]\n",
    "desc = data_bening.radius_mean.describe()\n",
    "Q1 = desc[4]\n",
    "Q3 = desc[6]\n",
    "IQR = Q3-Q1\n",
    "lower_bound = Q1 - 1.5*IQR\n",
    "upper_bound = Q3 + 1.5*IQR\n",
    "print(\"Anything outside this range is an outlier: (\", lower_bound ,\",\", upper_bound,\")\")\n",
    "data_bening[data_bening.radius_mean < lower_bound].radius_mean\n",
    "print(\"Outliers: \",data_bening[(data_bening.radius_mean < lower_bound) | (data_bening.radius_mean > upper_bound)].radius_mean.values)"
   ]
  },
  {
   "cell_type": "markdown",
   "metadata": {
    "_cell_guid": "d52bb4d3-afaa-483c-ad5d-089c02afc588",
    "_uuid": "700a82eff7c8843c29287e33921358011f3ee520"
   },
   "source": [
    "<a id=\"3\"></a> <br>\n",
    "## Box Plot \n",
    "* You can see outliers also from box plots\n",
    "* We found 3 outlier in bening radius mean and in box plot there are 3 outlier."
   ]
  },
  {
   "cell_type": "code",
   "execution_count": null,
   "metadata": {
    "_cell_guid": "a7869df9-a05d-4edc-bd51-053bd6f300e7",
    "_uuid": "055c8310248611425cc5b1db8cbf0061231a85f9",
    "collapsed": true
   },
   "outputs": [],
   "source": [
    "melted_data = pd.melt(data,id_vars = \"diagnosis\",value_vars = ['radius_mean', 'texture_mean'])\n",
    "plt.figure(figsize = (15,10))\n",
    "sns.boxplot(x = \"variable\", y = \"value\", hue=\"diagnosis\",data= melted_data)\n",
    "plt.show()"
   ]
  },
  {
   "cell_type": "markdown",
   "metadata": {
    "_cell_guid": "1f3dbf13-eff8-4ec8-b2af-0685be3bc21f",
    "_uuid": "1d9aa65d902b558f1b8edc93a368ba49bfc776f2"
   },
   "source": [
    "<a id=\"4\"></a> <br>\n",
    "## Summary Statistics\n",
    "* Mean\n",
    "* Variance: spread of distribution\n",
    "* Standart deviation square root of variance\n",
    "* Lets look at summary statistics of bening tumor radiance mean"
   ]
  },
  {
   "cell_type": "code",
   "execution_count": null,
   "metadata": {
    "_cell_guid": "5d753b0e-eb9b-47a2-99b7-c1d949dac739",
    "_uuid": "ceaf1cc0795f0612bcd30d8dd3c2566f96dbb198",
    "collapsed": true
   },
   "outputs": [],
   "source": [
    "print(\"mean: \",data_bening.radius_mean.mean())\n",
    "print(\"variance: \",data_bening.radius_mean.var())\n",
    "print(\"standart deviation (std): \",data_bening.radius_mean.std())\n",
    "print(\"describe method: \",data_bening.radius_mean.describe())"
   ]
  },
  {
   "cell_type": "markdown",
   "metadata": {
    "_cell_guid": "08f6d350-ca3b-43b1-ba7d-1e9262cbd8c9",
    "_uuid": "80f6f12ad8fc53273f46225ec281e5c50a5cd235"
   },
   "source": [
    "<a id=\"5\"></a> <br>\n",
    "## CDF\n",
    "* Cumulative distribution function is the probability that the variable takes a value less than or equal to x. P(X <= x)\n",
    "* Lets explain in cdf graph of bening radiues mean\n",
    "* in graph, what is P(12 < X)? The answer is 0.5. The probability that the variable takes a values less than or equal to 12(radius mean) is 0.5.\n",
    "* You can plot cdf with two different method"
   ]
  },
  {
   "cell_type": "code",
   "execution_count": null,
   "metadata": {
    "_cell_guid": "19b512b8-a526-4ab6-9c81-1f609f1f30e6",
    "_uuid": "15dfc9d1ba8b9eb2c9e66dca994101d684283353",
    "collapsed": true
   },
   "outputs": [],
   "source": [
    "plt.hist(data_bening.radius_mean,bins=50,fc=(0,1,0,0.5),label='Bening',normed = True,cumulative = True)\n",
    "sorted_data = np.sort(data_bening.radius_mean)\n",
    "y = np.arange(len(sorted_data))/float(len(sorted_data)-1)\n",
    "plt.plot(sorted_data,y,color='red')\n",
    "plt.title('CDF of bening tumor radius mean')\n",
    "plt.show()"
   ]
  },
  {
   "cell_type": "markdown",
   "metadata": {
    "_cell_guid": "5693f3d8-6a63-49ff-8780-00e686cfa951",
    "_uuid": "d91688a04c9bb1549a59a246537b8e976ebe2fce"
   },
   "source": [
    "<a id=\"6\"></a> <br>\n",
    "## Effect size\n",
    "* One of the summary statistics.\n",
    "* It describes size of an effect. It is simple way of quantifying the difference between two groups.\n",
    "* In an other saying, effect size emphasises the size of the difference\n",
    "* Use cohen effect size\n",
    "* Cohen suggest that if d(effect size)= 0.2, it is small effect size, d = 0.5 medium effect size, d = 0.8 large effect size.\n",
    "* lets compare size of the effect between bening radius mean and malignant radius mean\n",
    "* Effect size is 2.2 that is too big and says that two groups are different from each other as we expect. Because our groups are bening radius mean and malignant radius mean that are different from each other"
   ]
  },
  {
   "cell_type": "code",
   "execution_count": null,
   "metadata": {
    "_cell_guid": "6b4596a9-f913-4ea2-a182-eb1b35f659fa",
    "_uuid": "5bafe90f6212eeb920fc8ed80ca72bb87ea9abe6",
    "collapsed": true
   },
   "outputs": [],
   "source": [
    "mean_diff = data_malignant.radius_mean.mean() - data_bening.radius_mean.mean()\n",
    "var_bening = data_bening.radius_mean.var()\n",
    "var_malignant = data_malignant.radius_mean.var()\n",
    "var_pooled = (len(data_bening)*var_bening +len(data_malignant)*var_malignant ) / float(len(data_bening)+ len(data_malignant))\n",
    "effect_size = mean_diff/np.sqrt(var_pooled)\n",
    "print(\"Effect size: \",effect_size)"
   ]
  },
  {
   "cell_type": "markdown",
   "metadata": {
    "_cell_guid": "a0b7aa9c-8f1c-4f7e-a244-0401ae3f5815",
    "_uuid": "ee5ab99fe36c7ce986374530f121381e4a01e5ea"
   },
   "source": [
    "<a id=\"7\"></a> <br>\n",
    "## Relationship Between Variables\n",
    "* We can say that two variables are related with each other, if one of them gives information about others\n",
    "* For example, price and distance. If you go long distance with taxi you will pay more. There fore we can say that price and distance are positively related with each other.\n",
    "* Scatter Plot\n",
    "* Simplest way to check relationship between two variables\n",
    "* Lets look at relationship between radius mean and area mean\n",
    "* In scatter plot you can see that when radius mean increases, area mean also increases. Therefore, they are positively correlated with each other.\n",
    "* There is no correlation between area mean and fractal dimension se. Because when area mean changes, fractal dimension se is not affected by chance of area mean"
   ]
  },
  {
   "cell_type": "code",
   "execution_count": null,
   "metadata": {
    "_cell_guid": "2887041f-bcdd-4efb-8329-8f7f4432f58d",
    "_uuid": "8b5778cf4df9a644a8f7a62ff57f8a9d5357f02c",
    "collapsed": true
   },
   "outputs": [],
   "source": [
    "plt.figure(figsize = (15,10))\n",
    "sns.jointplot(data.radius_mean,data.area_mean,kind=\"regg\")\n",
    "plt.show()"
   ]
  },
  {
   "cell_type": "code",
   "execution_count": null,
   "metadata": {
    "_cell_guid": "74fcbc41-8b68-4d43-bd3c-bef9c420e03d",
    "_uuid": "ca713e963ced53fd3c81c33170b723f55aa82afe",
    "collapsed": true
   },
   "outputs": [],
   "source": [
    "# Also we can look relationship between more than 2 distribution\n",
    "sns.set(style = \"white\")\n",
    "df = data.loc[:,[\"radius_mean\",\"area_mean\",\"fractal_dimension_se\"]]\n",
    "g = sns.PairGrid(df,diag_sharey = False,)\n",
    "g.map_lower(sns.kdeplot,cmap=\"Blues_d\")\n",
    "g.map_upper(plt.scatter)\n",
    "g.map_diag(sns.kdeplot,lw =3)\n",
    "plt.show()"
   ]
  },
  {
   "cell_type": "markdown",
   "metadata": {
    "_cell_guid": "e2ea4524-ba53-4999-9622-57f777b52c04",
    "_uuid": "751536650e6a243fd6ffabbd895101a6cc5af0a2"
   },
   "source": [
    "<a id=\"8\"></a> <br>\n",
    "## Correlation\n",
    "* Strength of the relationship between two variables\n",
    "* Lets look at correlation between all features."
   ]
  },
  {
   "cell_type": "code",
   "execution_count": null,
   "metadata": {
    "_cell_guid": "434cca92-696b-4444-8f56-1644cc804a18",
    "_uuid": "fb58562e31b2f4ee55cb9021aac1de86c714da50",
    "collapsed": true
   },
   "outputs": [],
   "source": [
    "f,ax=plt.subplots(figsize = (18,18))\n",
    "sns.heatmap(data.corr(),annot= True,linewidths=0.5,fmt = \".1f\",ax=ax)\n",
    "plt.xticks(rotation=90)\n",
    "plt.yticks(rotation=0)\n",
    "plt.title('Correlation Map')\n",
    "plt.savefig('graph.png')\n",
    "plt.show()"
   ]
  },
  {
   "cell_type": "markdown",
   "metadata": {
    "_cell_guid": "2e7a08a1-6522-4639-acc0-62999298dabc",
    "_uuid": "8af4d19de00793df405d522baa523add92c99500"
   },
   "source": [
    "* Huge matrix that includes a lot of numbers\n",
    "* The range of this numbers are -1 to 1. \n",
    "* Meaning of 1 is two variable are positively correlated with each other like radius mean and area mean\n",
    "* Meaning of zero is there is no correlation between variables like radius mean and fractal dimension se\n",
    "* Meaning of -1 is two variables are negatively correlated with each other like radius mean and fractal dimension mean.Actually correlation between of them is not -1, it is -0.3 but the idea is that if sign of correlation is negative that means that there is negative correlation."
   ]
  },
  {
   "cell_type": "markdown",
   "metadata": {
    "_cell_guid": "decf0e59-ba06-4f70-a409-b9c36f31a2d2",
    "_uuid": "7a0e213abd8c7d9393aa3f3aa891cba5bab7ad2f"
   },
   "source": [
    "<a id=\"9\"></a> <br>\n",
    "## Covariance\n",
    "* Covariance is measure of the tendency of two variables to vary together\n",
    "* So covariance is maximized if two vectors are identical\n",
    "* Covariance is zero if they are orthogonal.\n",
    "* Covariance is negative if they point in opposite direction\n",
    "* Lets look at covariance between radius mean and area mean. Then look at radius mean and fractal dimension se\n"
   ]
  },
  {
   "cell_type": "code",
   "execution_count": null,
   "metadata": {
    "_cell_guid": "70a5a86e-e4c4-48a6-9b26-da7acd0aa582",
    "_uuid": "278fab1f7f573e39871179b3797acc3868d8292d",
    "collapsed": true
   },
   "outputs": [],
   "source": [
    "np.cov(data.radius_mean,data.area_mean)\n",
    "print(\"Covariance between radius mean and area mean: \",data.radius_mean.cov(data.area_mean))\n",
    "print(\"Covariance between radius mean and fractal dimension se: \",data.radius_mean.cov(data.fractal_dimension_se))"
   ]
  },
  {
   "cell_type": "markdown",
   "metadata": {
    "_cell_guid": "2ed58704-19c9-4cfc-8439-285d34dad3c3",
    "_uuid": "9df1c74618ff36af2225292b44aa4f2fb00719d9"
   },
   "source": [
    "<a id=\"10\"></a> <br>\n",
    "## Pearson Correlation\n",
    "* Division of covariance by standart deviation of variables\n",
    "* Lets look at pearson correlation between radius mean and area mean\n",
    "* First lets use .corr() method that we used actually at correlation part. In correlation part we actually used pearson correlation :) \n",
    "* p1 and p2 is the same. In p1 we use corr() method, in p2 we apply definition of pearson correlation (cov(A,B)/(std(A)*std(B)))\n",
    "* As we expect pearson correlation between area_mean and area_mean is 1 that means that they are same distribution\n",
    "* Also pearson correlation between area_mean and radius_mean is 0.98 that means that they are positively correlated with each other and relationship between of the is very high.\n",
    "* To be more clear what we did at correlation part and pearson correlation part is same.\n"
   ]
  },
  {
   "cell_type": "code",
   "execution_count": null,
   "metadata": {
    "_cell_guid": "5f951685-4070-4785-ba88-9bfaf9b80d79",
    "_uuid": "d40a315700b4a628ef6fd75701d68c4adffb3d70",
    "collapsed": true
   },
   "outputs": [],
   "source": [
    "p1 = data.loc[:,[\"area_mean\",\"radius_mean\"]].corr(method= \"pearson\")\n",
    "p2 = data.radius_mean.cov(data.area_mean)/(data.radius_mean.std()*data.area_mean.std())\n",
    "print('Pearson correlation: ')\n",
    "print(p1)\n",
    "print('Pearson correlation: ',p2)"
   ]
  },
  {
   "cell_type": "markdown",
   "metadata": {
    "_cell_guid": "b12190ed-205b-4b60-847d-a393de0ebfdf",
    "_uuid": "8e1e0dedd2dc999ca0727ff98b0db1e2c4a78cf8"
   },
   "source": [
    "<a id=\"11\"></a> <br>\n",
    "## Spearman's Rank Correlation\n",
    "* Pearson correlation works well if the relationship between variables are linear and variables are roughly normal. But it is not robust, if there are outliers\n",
    "* To compute spearman's correlation we need to compute rank of each value\n"
   ]
  },
  {
   "cell_type": "code",
   "execution_count": null,
   "metadata": {
    "_cell_guid": "1bfe46f8-3905-4f50-850d-50c76f49e922",
    "_uuid": "4a82b960ed64998d4bd111b23569fb9619bcae03",
    "collapsed": true
   },
   "outputs": [],
   "source": [
    "ranked_data = data.rank()\n",
    "spearman_corr = ranked_data.loc[:,[\"area_mean\",\"radius_mean\"]].corr(method= \"pearson\")\n",
    "print(\"Spearman's correlation: \")\n",
    "print(spearman_corr)"
   ]
  },
  {
   "cell_type": "markdown",
   "metadata": {
    "_cell_guid": "aecd895c-4d41-4615-b360-f752eff0eddd",
    "_uuid": "45d7a09457f8c71e87251fa765f99f39c349fe3d"
   },
   "source": [
    "* Spearman's correlation is little higher than pearson correlation\n",
    "    * If relationship between distributions are non linear, spearman's correlation tends to better estimate the strength of relationship\n",
    "    * Pearson correlation can be affected by outliers. Spearman's correlation is more robust. "
   ]
  },
  {
   "cell_type": "markdown",
   "metadata": {
    "_cell_guid": "42f53d2b-87b1-41a0-a31a-ec3fb787de48",
    "_uuid": "46144a3ba2d5e6ef0869e06ae3617b052ab21d2b"
   },
   "source": [
    "<a id=\"12\"></a> <br>\n",
    "## Mean VS Median\n",
    "* Sometimes instead of mean we need to use median. I am going to explain why we need to use median with an example\n",
    "* Lets think that there are 10 people who work in a company. Boss of the company will make raise in their salary if their mean of salary is smaller than 5\n"
   ]
  },
  {
   "cell_type": "code",
   "execution_count": null,
   "metadata": {
    "_cell_guid": "46df3b73-7027-47f3-ae93-80df0ddd3aa8",
    "_uuid": "474cf36be06df50f8c88c1bbedff84a4f4da7fda",
    "collapsed": true
   },
   "outputs": [],
   "source": [
    "salary = [1,4,3,2,5,4,2,3,1,500]\n",
    "print(\"Mean of salary: \",np.mean(salary))"
   ]
  },
  {
   "cell_type": "markdown",
   "metadata": {
    "_cell_guid": "0ff04e38-eabd-4e10-b7a8-2c302c0db56c",
    "_uuid": "4bd9d99c6f722a955d15ad671b02626986267a68"
   },
   "source": [
    "* Mean of salary is 52.5 so the boss thinks that oooo I gave a lot of salary to my employees. And do not makes raise in their salaries. However as you know this is not fair and 500(salary) is outlier for this salary list.\n",
    "* Median avoids outliers"
   ]
  },
  {
   "cell_type": "code",
   "execution_count": null,
   "metadata": {
    "_cell_guid": "ede851d0-1486-450e-b09a-811d755a6cd6",
    "_uuid": "598cf08ca9b5d57cc54d553cf7f7f128d35dc977",
    "collapsed": true
   },
   "outputs": [],
   "source": [
    "print(\"Median of salary: \",np.median(salary))"
   ]
  },
  {
   "cell_type": "markdown",
   "metadata": {
    "_cell_guid": "f08b04ce-9ec8-4b77-ba92-43e804bdefa9",
    "_uuid": "f7b19eb540701d30e8f70da6e1c07806642ad114"
   },
   "source": [
    "* Now median of the salary is 3 and it is less than 5 and employees will take raise in their sallaries and they are happy and this situation is fair :)"
   ]
  },
  {
   "cell_type": "markdown",
   "metadata": {
    "_cell_guid": "1cd563bd-d525-479a-8d9c-9530280dfdc0",
    "_uuid": "49e6272bd3e392d289514d1a2d19bb0fc65b34f3"
   },
   "source": [
    "<a id=\"13\"></a> <br>\n",
    "## Hypothesis Testing\n",
    "* Classical Hypothesis Testing\n",
    "* We want to answer this question: \"given a sample and a apparent effecti what is the probability of seeing such an effect by chance\"\n",
    "* The first step is to quantify the size of the apparent effect by choosing a test statistic. Natural choice for the test statistic is the difference in means between two groups.\n",
    "* The second step is to define null hypothesis that is model of the system based on the assumption that the apparent effect is not real. A null hypothesis is a type of hypothesis used in statistics that proposes that no statistical significance exists in a set of given observations. The null hypothesis is a hypothesis which people tries to disprove it. Alternative hypothesis is a hypothesis which people want to tries to prove it. \n",
    "* Third step is compute p-value that is probablity of seeing the apparent effect if the null hypothesis is true. Suppose we have null hypothesis test. Then we calculate p value. If p value is less than or equal to a threshold, we reject null hypothesis.\n",
    "* If the p-value is low, the effect is said to be statistacally significant that means that it is unlikely to have occured by chance. Therefore we can say that the effect is more likely to appear in the larger population.\n",
    "* Lets have an example. Null hypothesis: world is flatten. Alternative hypothesis: world is round. Several scientists set out to disprove the null hypothesis. This eventually led to the refection of the null hypothesis and acceptance of the alternative hypothesis.\n",
    "* Other example. \"this effect is real\" this is null hypothesis. Based on that assumption we compute the probability of the apparent effect. That is the p-value. If p-value is low, we conclude that null hypothesis is unlikely to be true.\n",
    "* Now lets make our example:\n",
    "    * I want to learn that are radius mean and area mean related with each other? My null hypothesis is that \"relationship between radius mean and area mean is zero in tumor population'.\n",
    "    * Now we need to refute this null hypothesis in order to demonstrate that radius mean and area mean are related. (actually we know it from our previous experiences)\n",
    "    * lets find p-value (probability value) "
   ]
  },
  {
   "cell_type": "code",
   "execution_count": null,
   "metadata": {
    "_cell_guid": "a7f73cf7-535c-4ee3-ad09-bc5530f4a5aa",
    "_uuid": "fa778e19b79454fbfa63846607f272d9afd7bb3c",
    "collapsed": true
   },
   "outputs": [],
   "source": [
    "statistic, p_value = stats.ttest_rel(data.radius_mean,data.area_mean)\n",
    "print('p-value: ',p_value)"
   ]
  },
  {
   "cell_type": "markdown",
   "metadata": {
    "_cell_guid": "0eba022b-3dc9-4f3d-852b-131106f1f0e7",
    "_uuid": "b51dc2ed88cfd4bcc0c0d60fe0f3c163006441a4"
   },
   "source": [
    "* P values is almost zero so we can reject null hypothesis."
   ]
  },
  {
   "cell_type": "markdown",
   "metadata": {
    "_uuid": "a974c70d92fdac95ad4b14c6a99d604fbe48fb32"
   },
   "source": [
    "<a id=\"14\"></a> <br>\n",
    "## Normal(Gaussian) Distribution and z-score\n",
    "* Also called bell shaped distribution\n",
    "* Instead of making formal definition of gaussian distribution, I want to explain it with an example.\n",
    "* The classic example is gaussian is IQ score.\n",
    "    * In the world lets say average IQ is 110.\n",
    "    * There are few people that are super intelligent and their IQs are higher than 110. It can be 140 or 150 but it is rare.\n",
    "    * Also there are few people that have low intelligent and their IQ is lower than 110. It can be 40 or 50 but it is rare.\n",
    "    * From these information we can say that mean of IQ is 110. And lets say standart deviation is 20.\n",
    "    * Mean and standart deviation is parameters of normal distribution.\n",
    "    * Lets create 100000 sample and visualize it with histogram.\n"
   ]
  },
  {
   "cell_type": "code",
   "execution_count": null,
   "metadata": {
    "_uuid": "d15145cd30c246f4042fa2afee2f963097dc84b1",
    "collapsed": true
   },
   "outputs": [],
   "source": [
    "# parameters of normal distribution\n",
    "mu, sigma = 110, 20  # mean and standard deviation\n",
    "s = np.random.normal(mu, sigma, 100000)\n",
    "print(\"mean: \", np.mean(s))\n",
    "print(\"standart deviation: \", np.std(s))\n",
    "# visualize with histogram\n",
    "plt.figure(figsize = (10,7))\n",
    "plt.hist(s, 100, normed=False)\n",
    "plt.ylabel(\"frequency\")\n",
    "plt.xlabel(\"IQ\")\n",
    "plt.title(\"Histogram of IQ\")\n",
    "plt.show()"
   ]
  },
  {
   "cell_type": "markdown",
   "metadata": {
    "_uuid": "89f5069849e56f3dc51f1939da5860522fa1bfb8"
   },
   "source": [
    "* As it can be seen from histogram most of the people are cumulated near to 110 that is mean of our normal distribution\n",
    "* However what is the \"most\" I mentioned at previous sentence? What if I want to know what percentage of people should have an IQ score between 80 and 140?\n",
    "* We will use z-score the answer this question. \n",
    "      * z = (x - mean)/std \n",
    "      * z1 = (80-110)/20 = -1.5\n",
    "      * z2 = (140-110)/20 = 1.5\n",
    "      * Distance between mean and 80 is 1.5std and distance between mean and 140 is 1.5std.\n",
    "      * If you look at z table, you will see that 1.5std correspond to 0.4332\n",
    " <a href=\"https://ibb.co/hys6OT\"><img src=\"https://preview.ibb.co/fYzWq8/123.png\" alt=\"123\" border=\"0\"></a>\n",
    "      * Lets calculate it with 2 because 1 from 80 to mean and other from mean to 140\n",
    "      * 0.4332 * 2 = 0.8664\n",
    "      * 86.64 % of people has an IQ between 80 and 140.\n",
    "  <a href=\"https://ibb.co/fhc6OT\"><img src=\"https://preview.ibb.co/bUi2xo/hist.png\" alt=\"hist\" border=\"0\"></a>"
   ]
  },
  {
   "cell_type": "markdown",
   "metadata": {
    "_uuid": "c26b871c68dcfa506ed9f26f497beb6b0f855912"
   },
   "source": [
    "* What percentage of people should have an IQ score less than 80?\n",
    "* z = (110-80)/20 = 1.5\n",
    "* Lets look at table of z score 0.4332. 43.32% of people has an IQ between 80 and mean(110).\n",
    "* If we subtract from 50% to 43.32%, we ca n find percentage of people have an IQ score less than 80.\n",
    "* 50-43.32 = 6.68. As a result, 6.68% of people have an IQ score less than 80."
   ]
  },
  {
   "cell_type": "markdown",
   "metadata": {
    "_uuid": "5f6b7cc448490e374d026e8bdcb475bd8b3a01a3"
   },
   "source": [
    "# To be continued..."
   ]
  },
  {
   "cell_type": "markdown",
   "metadata": {
    "_cell_guid": "5d433d88-cf21-4f29-a342-7899dd0dc9ad",
    "_uuid": "10765de0d61d2954452593a3f1473db565df369e"
   },
   "source": [
    "# Conclusion\n",
    "* If you have any question or advise, I will be very happy to hear them."
   ]
  }
 ],
 "metadata": {
  "kernelspec": {
   "display_name": "Python 3",
   "language": "python",
   "name": "python3"
  },
  "language_info": {
   "codemirror_mode": {
    "name": "ipython",
    "version": 3
   },
   "file_extension": ".py",
   "mimetype": "text/x-python",
   "name": "python",
   "nbconvert_exporter": "python",
   "pygments_lexer": "ipython3",
   "version": "3.7.3"
  }
 },
 "nbformat": 4,
 "nbformat_minor": 2
}
